{
 "cells": [
  {
   "cell_type": "markdown",
   "metadata": {},
   "source": [
    "## [作業目標]\n",
    "了解機器學習適合應用的領域與範疇。"
   ]
  },
  {
   "cell_type": "markdown",
   "metadata": {},
   "source": [
    "## [作業重點]\n",
    "透過瞭解機器學習的運作方式，找出非常適用機器學習應用的領域及其原因"
   ]
  },
  {
   "cell_type": "markdown",
   "metadata": {},
   "source": [
    "## 作業\n",
    "請找出一個你認為機器學習可以發光發熱的領域並闡述原因? \n",
    "\n",
    "我認為可以利用機器學習去發展自走汽車，不管是監督式、非監督式、增強學習都能幫助汽車去辨別路上的標線、標誌、人、障礙物，能讓人們出遊更安全，且機器的反應速度比人大腦的反應速度快。若能達成完全不用人類操控的車，只要輸入目的地，車就會開到指定地點，這樣不僅對長途駕駛有幫助，甚至連盲人、行動不便的人也都能方便行動。除了汽車之外，或許也能把火車、公車、飛機等…，也都變成自動化，讓世界變成智慧城市。"
   ]
  }
 ],
 "metadata": {
  "kernelspec": {
   "display_name": "Python 3",
   "language": "python",
   "name": "python3"
  },
  "language_info": {
   "codemirror_mode": {
    "name": "ipython",
    "version": 3
   },
   "file_extension": ".py",
   "mimetype": "text/x-python",
   "name": "python",
   "nbconvert_exporter": "python",
   "pygments_lexer": "ipython3",
   "version": "3.7.3"
  }
 },
 "nbformat": 4,
 "nbformat_minor": 2
}
