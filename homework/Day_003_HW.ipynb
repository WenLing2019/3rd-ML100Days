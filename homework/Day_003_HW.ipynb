{
 "cells": [
  {
   "cell_type": "markdown",
   "metadata": {},
   "source": [
    "## [作業目標]\n",
    "持續接觸有關機器學習的相關專案與最新技術"
   ]
  },
  {
   "cell_type": "markdown",
   "metadata": {},
   "source": [
    "## [作業重點]\n",
    "透過觀察頂尖公司的機器學習文章，來了解各公司是怎麼應用機器學習在實際的專案上"
   ]
  },
  {
   "cell_type": "markdown",
   "metadata": {},
   "source": [
    "## [作業]\n",
    "今天的作業希望大家能夠看看全球機器學習巨頭們在做的機器學習專案。以 google 為例，下圖是 Google 內部專案使用機器學習的數量，隨著時間進展，現在早已超過 2000 個專案在使用機器學習。"
   ]
  },
  {
   "cell_type": "markdown",
   "metadata": {},
   "source": [
    "![image](https://cdn-images-1.medium.com/max/800/1*U_L8qI8RmYS-MOBrYvXhSA.png)"
   ]
  },
  {
   "cell_type": "markdown",
   "metadata": {},
   "source": [
    "底下幫同學整理幾間知名企業的 blog 或機器學習網站 (自行搜尋也可)，這些網站都會整理最新的機器學習專案或者是技術文章，請挑選一篇文章閱讀並試著回答\n",
    "1. 專案的目標？ (要解決什麼問題）\n",
    "2. 使用的技術是？ (只需知道名稱即可，例如：使用 CNN 卷積神經網路做影像分類)\n",
    "3. 資料來源？ "
   ]
  },
  {
   "cell_type": "markdown",
   "metadata": {},
   "source": [
    "- [Google AI blog](https://ai.googleblog.com/)\n",
    "- [Facebook Research blog](https://research.fb.com/blog/)\n",
    "- [Apple machine learning journal](https://machinelearning.apple.com/)\n",
    "- [機器之心](https://www.jiqizhixin.com/)\n",
    "- [雷鋒網](http://www.leiphone.com/category/ai)"
   ]
  },
  {
   "cell_type": "markdown",
   "metadata": {},
   "source": [
    "1.(1)自動駕駛：讓汽車決定它的行動(向前、向後、停車、轉彎)，並知道周圍所有物體的位置(汽車、行人、交通號誌等)。\n",
    "  (2)人臉檢測與人臉識別：在Facebook，Instagram或Google相冊上傳圖片時，會自動檢測圖像中的人物。\n",
    "  (3)行為識別：識別一個或多個圖像系列的活動或動作。\n",
    "  (4)目標計數：計算圖像中的目標數量，甚至是實時視頻中的目標數量，例如：分析存儲表現或估計人群中的人數。\n",
    "  \n",
    "2.使用SlimYOLOv3框架實現實時目標檢測。\n",
    "  實時目標檢測：檢測目標並在幾微秒內進行推斷。\n",
    "  目標檢測：識別圖像中目標位置的技術。若圖像中有單個目標，且我們想要檢測該目標，則稱為圖像定位；若圖像中有多個目標，則稱為目標檢測問  \n",
    "           題。\n",
    "  \n",
    "3.機器之心 - 使用SlimYOLOv3框架實現實時目標檢測 來源Analytics Vidhya 譯者Arno\n",
    "  https://www.jiqizhixin.com/articles/2019-08-26-3?fbclid=IwAR03jVKUKogIJqKIyzkPy-7cpLQpFsg4rKaueo42LyOKoHjEJZ1t637f658"
   ]
  }
 ],
 "metadata": {
  "kernelspec": {
   "display_name": "Python 3",
   "language": "python",
   "name": "python3"
  },
  "language_info": {
   "codemirror_mode": {
    "name": "ipython",
    "version": 3
   },
   "file_extension": ".py",
   "mimetype": "text/x-python",
   "name": "python",
   "nbconvert_exporter": "python",
   "pygments_lexer": "ipython3",
   "version": "3.7.3"
  }
 },
 "nbformat": 4,
 "nbformat_minor": 2
}
